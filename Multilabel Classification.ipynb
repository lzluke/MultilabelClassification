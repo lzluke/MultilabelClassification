{
 "cells": [
  {
   "cell_type": "markdown",
   "metadata": {
    "tags": []
   },
   "source": [
    "## Import libraries and download the packages"
   ]
  },
  {
   "cell_type": "code",
   "execution_count": 1,
   "metadata": {},
   "outputs": [],
   "source": [
    "# General Import\n",
    "import matplotlib.pyplot as plt \n",
    "import pandas as pd\n",
    "import numpy as np\n",
    "import nltk\n",
    "import gensim\n",
    "import string\n",
    "\n",
    "\n",
    "# Preprocessing\n",
    "from nltk.corpus import stopwords\n",
    "from nltk.tokenize import word_tokenize\n",
    "from nltk.stem.wordnet import WordNetLemmatizer\n",
    "from nltk import FreqDist\n",
    "\n",
    "from gensim.parsing.porter import PorterStemmer\n",
    "from nltk.stem.snowball import EnglishStemmer\n",
    "\n",
    "from sklearn.feature_extraction.text import CountVectorizer, TfidfVectorizer\n",
    "\n",
    "# Evaluation\n",
    "from sklearn.metrics import multilabel_confusion_matrix, ConfusionMatrixDisplay, classification_report, hamming_loss, f1_score\n",
    "\n",
    "# Misc\n",
    "from pprint import pprint\n",
    "from statistics import mean\n",
    "import warnings\n",
    "warnings.filterwarnings('ignore')"
   ]
  },
  {
   "cell_type": "markdown",
   "metadata": {
    "tags": []
   },
   "source": [
    "## Read the dataset"
   ]
  },
  {
   "cell_type": "code",
   "execution_count": 2,
   "metadata": {},
   "outputs": [],
   "source": [
    "df = pd.read_csv(\"data/videodata.csv\")"
   ]
  },
  {
   "cell_type": "code",
   "execution_count": 3,
   "metadata": {},
   "outputs": [
    {
     "data": {
      "text/html": [
       "<div>\n",
       "<style scoped>\n",
       "    .dataframe tbody tr th:only-of-type {\n",
       "        vertical-align: middle;\n",
       "    }\n",
       "\n",
       "    .dataframe tbody tr th {\n",
       "        vertical-align: top;\n",
       "    }\n",
       "\n",
       "    .dataframe thead th {\n",
       "        text-align: right;\n",
       "    }\n",
       "</style>\n",
       "<table border=\"1\" class=\"dataframe\">\n",
       "  <thead>\n",
       "    <tr style=\"text-align: right;\">\n",
       "      <th></th>\n",
       "      <th>Unnamed: 0</th>\n",
       "      <th>Id</th>\n",
       "      <th>Channel</th>\n",
       "      <th>Title</th>\n",
       "      <th>Category</th>\n",
       "      <th>Transcript</th>\n",
       "    </tr>\n",
       "  </thead>\n",
       "  <tbody>\n",
       "    <tr>\n",
       "      <th>0</th>\n",
       "      <td>1</td>\n",
       "      <td>RN8yoi-e2yc</td>\n",
       "      <td>Mythical Kitchen</td>\n",
       "      <td>$420 Pizza Hut Stuffed Crust Pizza | Fancy Fas...</td>\n",
       "      <td>Food</td>\n",
       "      <td>- Oh, that's dirty.\\r\\n- Wow! - Whoa.\\r\\n- You...</td>\n",
       "    </tr>\n",
       "    <tr>\n",
       "      <th>1</th>\n",
       "      <td>2</td>\n",
       "      <td>IugcIAAZJ2M</td>\n",
       "      <td>Munchies</td>\n",
       "      <td>The Iconic $1 Pizza Slice of NYC | Street Food...</td>\n",
       "      <td>Food</td>\n",
       "      <td>if you want good pizza come to st marks it's t...</td>\n",
       "    </tr>\n",
       "    <tr>\n",
       "      <th>2</th>\n",
       "      <td>3</td>\n",
       "      <td>JiEO6F8i0eU</td>\n",
       "      <td>Parks and Recreation</td>\n",
       "      <td>Ron Swanson: The Papa of Pawnee | Parks and Re...</td>\n",
       "      <td>Entertainment,Comedy</td>\n",
       "      <td>April where have you been over two phone calls...</td>\n",
       "    </tr>\n",
       "    <tr>\n",
       "      <th>3</th>\n",
       "      <td>5</td>\n",
       "      <td>0ZWGeidvrJw</td>\n",
       "      <td>Doctor Who</td>\n",
       "      <td>The Doctor Defeats the Abzorbaloff | Love and ...</td>\n",
       "      <td>Entertainment</td>\n",
       "      <td>Oh, what's the matter?\\r\\nHave you given up so...</td>\n",
       "    </tr>\n",
       "    <tr>\n",
       "      <th>4</th>\n",
       "      <td>6</td>\n",
       "      <td>YiEj9mrqTN0</td>\n",
       "      <td>A&amp;E</td>\n",
       "      <td>Live PD: Most Viewed Moments from Walton Count...</td>\n",
       "      <td>News</td>\n",
       "      <td>[music playing] We'll be on Laverne Street. It...</td>\n",
       "    </tr>\n",
       "    <tr>\n",
       "      <th>...</th>\n",
       "      <td>...</td>\n",
       "      <td>...</td>\n",
       "      <td>...</td>\n",
       "      <td>...</td>\n",
       "      <td>...</td>\n",
       "      <td>...</td>\n",
       "    </tr>\n",
       "    <tr>\n",
       "      <th>1584</th>\n",
       "      <td>2510</td>\n",
       "      <td>DonD68byO0o</td>\n",
       "      <td>Parks and Recreation</td>\n",
       "      <td>Best of Andy Dwyer | Parks and Recreation</td>\n",
       "      <td>Entertainment,Comedy</td>\n",
       "      <td>oh I guess while you get your medicine I'll ju...</td>\n",
       "    </tr>\n",
       "    <tr>\n",
       "      <th>1585</th>\n",
       "      <td>2511</td>\n",
       "      <td>iaEcZW0eyEg</td>\n",
       "      <td>Hell's Kitchen</td>\n",
       "      <td>Gordon Ramsay's Most Savage Moments | Hell's K...</td>\n",
       "      <td>Food</td>\n",
       "      <td>southern girl keisha hopes to get the women on...</td>\n",
       "    </tr>\n",
       "    <tr>\n",
       "      <th>1586</th>\n",
       "      <td>2512</td>\n",
       "      <td>sW9npZVpiMI</td>\n",
       "      <td>Joma Tech</td>\n",
       "      <td>why you NEED math for programming</td>\n",
       "      <td>Tech,Comedy</td>\n",
       "      <td>[Music] okay [Music] jesus nope not jesus it's...</td>\n",
       "    </tr>\n",
       "    <tr>\n",
       "      <th>1587</th>\n",
       "      <td>2513</td>\n",
       "      <td>yl3MiR7XXAM</td>\n",
       "      <td>jacksepticeye</td>\n",
       "      <td>Happy Wheels - Part 1 | THIS GAME IS MY BITCH</td>\n",
       "      <td>VideoGames</td>\n",
       "      <td>Top o' the mornin' to ya, laddies! My name i...</td>\n",
       "    </tr>\n",
       "    <tr>\n",
       "      <th>1588</th>\n",
       "      <td>2514</td>\n",
       "      <td>dJfSS0ZXYdo</td>\n",
       "      <td>Top Gear</td>\n",
       "      <td>The Smallest Car in the World at the BBC - Top...</td>\n",
       "      <td>Comedy</td>\n",
       "      <td>And there's more, because as the country\\r\\nbe...</td>\n",
       "    </tr>\n",
       "  </tbody>\n",
       "</table>\n",
       "<p>1589 rows × 6 columns</p>\n",
       "</div>"
      ],
      "text/plain": [
       "      Unnamed: 0           Id               Channel  \\\n",
       "0              1  RN8yoi-e2yc      Mythical Kitchen   \n",
       "1              2  IugcIAAZJ2M              Munchies   \n",
       "2              3  JiEO6F8i0eU  Parks and Recreation   \n",
       "3              5  0ZWGeidvrJw            Doctor Who   \n",
       "4              6  YiEj9mrqTN0                   A&E   \n",
       "...          ...          ...                   ...   \n",
       "1584        2510  DonD68byO0o  Parks and Recreation   \n",
       "1585        2511  iaEcZW0eyEg        Hell's Kitchen   \n",
       "1586        2512  sW9npZVpiMI             Joma Tech   \n",
       "1587        2513  yl3MiR7XXAM         jacksepticeye   \n",
       "1588        2514  dJfSS0ZXYdo              Top Gear   \n",
       "\n",
       "                                                  Title              Category  \\\n",
       "0     $420 Pizza Hut Stuffed Crust Pizza | Fancy Fas...                  Food   \n",
       "1     The Iconic $1 Pizza Slice of NYC | Street Food...                  Food   \n",
       "2     Ron Swanson: The Papa of Pawnee | Parks and Re...  Entertainment,Comedy   \n",
       "3     The Doctor Defeats the Abzorbaloff | Love and ...         Entertainment   \n",
       "4     Live PD: Most Viewed Moments from Walton Count...                  News   \n",
       "...                                                 ...                   ...   \n",
       "1584          Best of Andy Dwyer | Parks and Recreation  Entertainment,Comedy   \n",
       "1585  Gordon Ramsay's Most Savage Moments | Hell's K...                  Food   \n",
       "1586                  why you NEED math for programming           Tech,Comedy   \n",
       "1587      Happy Wheels - Part 1 | THIS GAME IS MY BITCH            VideoGames   \n",
       "1588  The Smallest Car in the World at the BBC - Top...                Comedy   \n",
       "\n",
       "                                             Transcript  \n",
       "0     - Oh, that's dirty.\\r\\n- Wow! - Whoa.\\r\\n- You...  \n",
       "1     if you want good pizza come to st marks it's t...  \n",
       "2     April where have you been over two phone calls...  \n",
       "3     Oh, what's the matter?\\r\\nHave you given up so...  \n",
       "4     [music playing] We'll be on Laverne Street. It...  \n",
       "...                                                 ...  \n",
       "1584  oh I guess while you get your medicine I'll ju...  \n",
       "1585  southern girl keisha hopes to get the women on...  \n",
       "1586  [Music] okay [Music] jesus nope not jesus it's...  \n",
       "1587    Top o' the mornin' to ya, laddies! My name i...  \n",
       "1588  And there's more, because as the country\\r\\nbe...  \n",
       "\n",
       "[1589 rows x 6 columns]"
      ]
     },
     "execution_count": 3,
     "metadata": {},
     "output_type": "execute_result"
    }
   ],
   "source": [
    "df"
   ]
  },
  {
   "cell_type": "markdown",
   "metadata": {
    "tags": []
   },
   "source": [
    "## Data Understanding\n",
    "Perform the necessary steps and explain the rationale taken here.\n",
    "\n"
   ]
  },
  {
   "cell_type": "markdown",
   "metadata": {
    "tags": []
   },
   "source": [
    "<h4> Video Count Per Category </h4>"
   ]
  },
  {
   "cell_type": "code",
   "execution_count": 4,
   "metadata": {},
   "outputs": [],
   "source": [
    "cat_dict = df.Category.value_counts().to_dict()"
   ]
  },
  {
   "cell_type": "code",
   "execution_count": 5,
   "metadata": {},
   "outputs": [
    {
     "name": "stdout",
     "output_type": "stream",
     "text": [
      "Total Video Count: 1589\n"
     ]
    },
    {
     "data": {
      "image/png": "[encoded data removed]",
      "text/plain": [
       "<Figure size 640x480 with 1 Axes>"
      ]
     },
     "metadata": {},
     "output_type": "display_data"
    }
   ],
   "source": [
    "fig, ax = plt.subplots()\n",
    "\n",
    "ax.barh(list(cat_dict.keys()), list(cat_dict.values()))\n",
    "ax.set_title(\"Video Count Per Category\")\n",
    "\n",
    "print(\"Total Video Count: %s\" % sum(list(cat_dict.values())))"
   ]
  },
  {
   "cell_type": "markdown",
   "metadata": {
    "tags": []
   },
   "source": [
    "<h4> Understanding Cleaning Steps needed </h4>"
   ]
  },
  {
   "cell_type": "code",
   "execution_count": 6,
   "metadata": {},
   "outputs": [],
   "source": [
    "character_set = set()"
   ]
  },
  {
   "cell_type": "code",
   "execution_count": 7,
   "metadata": {},
   "outputs": [],
   "source": [
    "_ = [character_set.update(word.lower()) for doc in df[\"Title\"] for word in doc]\n",
    "_ = [character_set.update(word.lower()) for doc in df[\"Transcript\"] for word in doc]"
   ]
  },
  {
   "cell_type": "code",
   "execution_count": 8,
   "metadata": {},
   "outputs": [
    {
     "name": "stdout",
     "output_type": "stream",
     "text": [
      "{'q', '😱', 'ó', '3', '|', '🇷', '#', '͜', 'ｎ', '𝐃', 'o', 'ｈ', '♪', '̒', '^', '̗', 'u', '♩', '͡', '𝘳', 'ô', 'ｔ', 'ಠ', '🔴', '️', '💪', '́', 'û', '٩', 'e', 'g', '☉', '𝐈', '𝘩', '!', '𝘴', 'ñ', 'ｒ', 'õ', '5', 'ß', 'ë', '̵', '𝘷', '𝘐', '＿', '-', '̶', '❀', '~', '[', '𝘸', '͊', '£', '̄', '𝘰', '𝘱', '人', '○', '𝘕', '\\u200c', '𝘢', '🔥', '̍', 'h', '𝘍', '&', '@', 'x', 'ఠ', '“', '̣', ':', ' ', '͖', 'a', '”', '̑', 'è', '◞', '（', 'y', 'ú', '🧻', '𝐒', '𝘈', '}', 'ʖ', '🏁', '_', 'b', '¢', '∅', '𝘞', '𝐇', '⁀', 'ｓ', '✨', 'á', 'é', '̇', '>', 'ｇ', 'j', '•', ']', '◔', '…', '°', '￣', '\\r', '𝘛', 'е', 'ε', '𝘵', 'ｖ', 'z', '2', '𝘏', '͂', '¬', ',', '¯', 'ツ', 'ï', '̹', '＼', 'ヾ', 'å', 'ś', '̪', '𝐄', '۶', '\"', '½', 'ｉ', '̨', 'í', 'k', 'ą', 'ａ', '𝘔', '𝘥', '6', '𝘬', '𝘊', '͌', '𝘪', 'ｂ', '͛', '`', 'ｗ', '𝘤', '◟', '）', 'c', '𝘮', '𝘨', 'ｐ', 'n', '̬', '𝐍', '/', '𝐓', 'd', '♫', '⚽', '﹏', '*', '–', '̯', '—', '$', '𝐆', '\\xa0', '🚗', '‘', 'ｌ', '𝘎', '͍', '%', 't', '4', '͘', '͟', '／', '𝘺', 'ｏ', '・', 'w', '{', '𝘯', '̀', '8', 'ł', '🚁', '◕', '👌', 'r', '🐢', '̴', '\\n', '͠', '？', '’', '+', ')', '𝘠', '𝐌', '🎶', '\\u200b', '𝘦', '😅', '🇫', 'f', '𝘣', '̜', 'v', '™', 'æ', '©', '(', '💖', '‿', '\\\\', '̋', ';', 'i', '.', '＾', '⊙', '◠', 's', '💥', 'p', '💰', '̞', '̊', '7', 'l', '9', '𝘧', '𝘋', '𝐀', '͔', '😡', '0', 'ｰ', '🎵', \"'\", 'ç', 'ä', '¼', 'ｙ', 'm', '𝘭', '?', 'ö', '=', '1', 'ｄ', '𝘶', '🤯', '✿', '𝘹', '𝘖', '<', '͒'}\n"
     ]
    }
   ],
   "source": [
    "print(character_set)"
   ]
  },
  {
   "cell_type": "code",
   "execution_count": 9,
   "metadata": {},
   "outputs": [
    {
     "name": "stdout",
     "output_type": "stream",
     "text": [
      "['q3|#o^ueg!5-~[h&@x: ay}_b>j]\\rz2,\"k6`cn/d*$%t4w{8r\\n+)fv(\\\\;i.sp7l90\\'m?=1<']\n"
     ]
    }
   ],
   "source": [
    "no_emoji = [''.join([ch for ch in character_set if ord(ch) < 128])]\n",
    "print(no_emoji)"
   ]
  },
  {
   "cell_type": "code",
   "execution_count": 10,
   "metadata": {},
   "outputs": [
    {
     "name": "stdout",
     "output_type": "stream",
     "text": [
      "['q3oueg5hx aybj\\rz2k6cndt4w8r\\nfvisp7l90m1']\n"
     ]
    }
   ],
   "source": [
    "no_punc = [''.join([ch for ch in no_emoji[0].lower() if ch not in string.punctuation])]\n",
    "print(no_punc)"
   ]
  },
  {
   "cell_type": "code",
   "execution_count": 11,
   "metadata": {},
   "outputs": [
    {
     "name": "stdout",
     "output_type": "stream",
     "text": [
      "q3oueg5hxaybjz2k6cndt4w8rfvisp7l90m1\n"
     ]
    }
   ],
   "source": [
    "no_space = no_punc[0].replace(\" \", '').replace(\"\\r\",\"\").replace(\"\\n\", \"\")\n",
    "print(no_space)"
   ]
  },
  {
   "cell_type": "code",
   "execution_count": 12,
   "metadata": {},
   "outputs": [
    {
     "name": "stdout",
     "output_type": "stream",
     "text": [
      "qoueghxaybjzkcndtwrfvisplm\n"
     ]
    }
   ],
   "source": [
    "no_num = ''.join([ch for ch in no_space.lower() if not ch.isdigit()])\n",
    "print(no_num)"
   ]
  },
  {
   "cell_type": "code",
   "execution_count": 13,
   "metadata": {},
   "outputs": [
    {
     "data": {
      "text/plain": [
       "26"
      ]
     },
     "execution_count": 13,
     "metadata": {},
     "output_type": "execute_result"
    }
   ],
   "source": [
    "len(no_num)"
   ]
  },
  {
   "cell_type": "markdown",
   "metadata": {
    "tags": []
   },
   "source": [
    "## Data Preparation\n",
    "Perform the necessary steps and explain the rationale taken here.\n",
    "\n"
   ]
  },
  {
   "cell_type": "markdown",
   "metadata": {
    "tags": []
   },
   "source": [
    "<h4> Basic Tokenizing and Cleaning </h4>"
   ]
  },
  {
   "cell_type": "code",
   "execution_count": 14,
   "metadata": {},
   "outputs": [],
   "source": [
    "df = pd.read_csv(\"data/videodata.csv\")"
   ]
  },
  {
   "cell_type": "code",
   "execution_count": 15,
   "metadata": {},
   "outputs": [],
   "source": [
    "df[\"text\"] = df[\"Title\"] + df[\"Transcript\"]\n",
    "df[\"text\"].replace(\"\\\\r\\\\n\", \" \", regex = True, inplace = True)"
   ]
  },
  {
   "cell_type": "code",
   "execution_count": 16,
   "metadata": {},
   "outputs": [],
   "source": [
    "word_exclude = string.punctuation\n",
    "lemma = WordNetLemmatizer()\n",
    "stemmer = EnglishStemmer()\n",
    "stopwords_english = set(stopwords.words('english'))\n",
    "\n",
    "def clean(doc):\n",
    "    cleaned_word = []\n",
    "    for word in doc:\n",
    "        emoji_free = ''.join([ch for ch in word if ord(ch) < 128]) # Remove Emojis and unicode characters\n",
    "        punc_free = ''.join([ch for ch in emoji_free.lower() if ch not in word_exclude]) # Remove Punctuations\n",
    "        stop_free = ' '.join([i for i in punc_free.split() if i not in stopwords_english]) # Remove common stopwords\n",
    "        # normalized = ' '.join(lemma.lemmatize(word) for word in stop_free.split()) # Lemmatize each word\n",
    "        stemmed = ' '.join(stemmer.stem(word) for word in stop_free.split()) # Stem each word\n",
    "        num_free = ''.join([ch for ch in stemmed.lower() if not ch.isdigit()]) # Remove number\n",
    "        if num_free != \"\":\n",
    "            cleaned_word.append(num_free)\n",
    "    return cleaned_word"
   ]
  },
  {
   "cell_type": "code",
   "execution_count": 17,
   "metadata": {},
   "outputs": [],
   "source": [
    "df['text'] = df['text'].apply(lambda x: word_tokenize(x))\n",
    "df['text'] = df['text'].apply(lambda x: clean(x))  "
   ]
  },
  {
   "cell_type": "markdown",
   "metadata": {
    "tags": []
   },
   "source": [
    "<h4> Updating Common Word Via Freq Distribution </h4>"
   ]
  },
  {
   "cell_type": "code",
   "execution_count": 18,
   "metadata": {},
   "outputs": [],
   "source": [
    "def plot_frequency(freq):\n",
    "    plt.figure(figsize=(10,5))\n",
    "    freq.plot(50, cumulative=False)\n",
    "    plt.show()"
   ]
  },
  {
   "cell_type": "code",
   "execution_count": 19,
   "metadata": {},
   "outputs": [],
   "source": [
    "all_word_cleaned = [word for doc in df.text for word in doc]\n",
    "all_word_cleaned_freq = FreqDist(all_word_cleaned) "
   ]
  },
  {
   "cell_type": "code",
   "execution_count": 20,
   "metadata": {},
   "outputs": [
    {
     "data": {
      "image/png": "[encoded data removed]",
      "text/plain": [
       "<Figure size 1000x500 with 1 Axes>"
      ]
     },
     "metadata": {},
     "output_type": "display_data"
    }
   ],
   "source": [
    "plot_frequency(all_word_cleaned_freq)"
   ]
  },
  {
   "cell_type": "code",
   "execution_count": 21,
   "metadata": {},
   "outputs": [],
   "source": [
    "stopwords_english.update([\"like\", \"nt\", \"go\", \"get\", \"know\"])\n",
    "df['text'] = df['text'].apply(lambda x: clean(x))"
   ]
  },
  {
   "cell_type": "code",
   "execution_count": 22,
   "metadata": {},
   "outputs": [
    {
     "data": {
      "text/html": [
       "<div>\n",
       "<style scoped>\n",
       "    .dataframe tbody tr th:only-of-type {\n",
       "        vertical-align: middle;\n",
       "    }\n",
       "\n",
       "    .dataframe tbody tr th {\n",
       "        vertical-align: top;\n",
       "    }\n",
       "\n",
       "    .dataframe thead th {\n",
       "        text-align: right;\n",
       "    }\n",
       "</style>\n",
       "<table border=\"1\" class=\"dataframe\">\n",
       "  <thead>\n",
       "    <tr style=\"text-align: right;\">\n",
       "      <th></th>\n",
       "      <th>text</th>\n",
       "      <th>Category</th>\n",
       "    </tr>\n",
       "  </thead>\n",
       "  <tbody>\n",
       "    <tr>\n",
       "      <th>0</th>\n",
       "      <td>[pizza, hut, stuf, crust, pizza, fanci, fast, ...</td>\n",
       "      <td>Food</td>\n",
       "    </tr>\n",
       "    <tr>\n",
       "      <th>1</th>\n",
       "      <td>[icon, pizza, slice, nyc, street, food, iconsi...</td>\n",
       "      <td>Food</td>\n",
       "    </tr>\n",
       "    <tr>\n",
       "      <th>2</th>\n",
       "      <td>[ron, swanson, papa, pawn, park, recreationapr...</td>\n",
       "      <td>Entertainment,Comedy</td>\n",
       "    </tr>\n",
       "    <tr>\n",
       "      <th>3</th>\n",
       "      <td>[doctor, defeat, abzorbaloff, love, monster, d...</td>\n",
       "      <td>Entertainment</td>\n",
       "    </tr>\n",
       "    <tr>\n",
       "      <th>4</th>\n",
       "      <td>[live, pd, view, moment, walton, counti, fl, e...</td>\n",
       "      <td>News</td>\n",
       "    </tr>\n",
       "    <tr>\n",
       "      <th>...</th>\n",
       "      <td>...</td>\n",
       "      <td>...</td>\n",
       "    </tr>\n",
       "    <tr>\n",
       "      <th>1584</th>\n",
       "      <td>[best, andi, dwyer, park, recreationoh, guess,...</td>\n",
       "      <td>Entertainment,Comedy</td>\n",
       "    </tr>\n",
       "    <tr>\n",
       "      <th>1585</th>\n",
       "      <td>[gordon, ramsay, savag, moment, hell, kitchen,...</td>\n",
       "      <td>Food</td>\n",
       "    </tr>\n",
       "    <tr>\n",
       "      <th>1586</th>\n",
       "      <td>[need, math, program, music, okay, music, jesu...</td>\n",
       "      <td>Tech,Comedy</td>\n",
       "    </tr>\n",
       "    <tr>\n",
       "      <th>1587</th>\n",
       "      <td>[happi, wheel, part, game, bitch, top, mornin,...</td>\n",
       "      <td>VideoGames</td>\n",
       "    </tr>\n",
       "    <tr>\n",
       "      <th>1588</th>\n",
       "      <td>[smallest, car, world, bbc, top, gear, bbcand,...</td>\n",
       "      <td>Comedy</td>\n",
       "    </tr>\n",
       "  </tbody>\n",
       "</table>\n",
       "<p>1589 rows × 2 columns</p>\n",
       "</div>"
      ],
      "text/plain": [
       "                                                   text              Category\n",
       "0     [pizza, hut, stuf, crust, pizza, fanci, fast, ...                  Food\n",
       "1     [icon, pizza, slice, nyc, street, food, iconsi...                  Food\n",
       "2     [ron, swanson, papa, pawn, park, recreationapr...  Entertainment,Comedy\n",
       "3     [doctor, defeat, abzorbaloff, love, monster, d...         Entertainment\n",
       "4     [live, pd, view, moment, walton, counti, fl, e...                  News\n",
       "...                                                 ...                   ...\n",
       "1584  [best, andi, dwyer, park, recreationoh, guess,...  Entertainment,Comedy\n",
       "1585  [gordon, ramsay, savag, moment, hell, kitchen,...                  Food\n",
       "1586  [need, math, program, music, okay, music, jesu...           Tech,Comedy\n",
       "1587  [happi, wheel, part, game, bitch, top, mornin,...            VideoGames\n",
       "1588  [smallest, car, world, bbc, top, gear, bbcand,...                Comedy\n",
       "\n",
       "[1589 rows x 2 columns]"
      ]
     },
     "execution_count": 22,
     "metadata": {},
     "output_type": "execute_result"
    }
   ],
   "source": [
    "df_cleaned = df.copy()[[\"text\",\"Category\"]]\n",
    "df_cleaned"
   ]
  },
  {
   "cell_type": "markdown",
   "metadata": {
    "tags": []
   },
   "source": [
    "<h4> Feature Set </h4>"
   ]
  },
  {
   "cell_type": "code",
   "execution_count": 23,
   "metadata": {},
   "outputs": [
    {
     "name": "stdout",
     "output_type": "stream",
     "text": [
      "Top Ten Most Common Words [('one', 15407), ('oh', 12811), ('right', 12810), ('na', 12156), ('yeah', 11465), ('gon', 11387), ('want', 10836), ('think', 10493), ('look', 9935), ('got', 9875)] \n",
      "Top Ten Least Common Words [('whoa', 580), ('figur', 579), ('delici', 579), ('subscrib', 578), ('option', 576), ('price', 575), ('air', 574), ('send', 574), ('surpri', 573), ('youtub', 573)] \n"
     ]
    }
   ],
   "source": [
    "all_word_cleaned = [word for doc in df_cleaned.text for word in doc]\n",
    "all_word_cleaned_freq = FreqDist(all_word_cleaned) \n",
    "\n",
    "most_common_words = all_word_cleaned_freq.most_common(500)\n",
    "\n",
    "print (\"Top Ten Most Common Words %s \" % most_common_words[:10])\n",
    "print (\"Top Ten Least Common Words %s \" % most_common_words[-10:])\n",
    "\n",
    "word_features = [item[0] for item in most_common_words]"
   ]
  },
  {
   "cell_type": "code",
   "execution_count": 24,
   "metadata": {},
   "outputs": [
    {
     "data": {
      "text/html": [
       "<div>\n",
       "<style scoped>\n",
       "    .dataframe tbody tr th:only-of-type {\n",
       "        vertical-align: middle;\n",
       "    }\n",
       "\n",
       "    .dataframe tbody tr th {\n",
       "        vertical-align: top;\n",
       "    }\n",
       "\n",
       "    .dataframe thead th {\n",
       "        text-align: right;\n",
       "    }\n",
       "</style>\n",
       "<table border=\"1\" class=\"dataframe\">\n",
       "  <thead>\n",
       "    <tr style=\"text-align: right;\">\n",
       "      <th></th>\n",
       "      <th>one</th>\n",
       "      <th>oh</th>\n",
       "      <th>right</th>\n",
       "      <th>na</th>\n",
       "      <th>yeah</th>\n",
       "      <th>gon</th>\n",
       "      <th>want</th>\n",
       "      <th>think</th>\n",
       "      <th>look</th>\n",
       "      <th>got</th>\n",
       "      <th>...</th>\n",
       "      <th>whoa</th>\n",
       "      <th>figur</th>\n",
       "      <th>delici</th>\n",
       "      <th>subscrib</th>\n",
       "      <th>option</th>\n",
       "      <th>price</th>\n",
       "      <th>air</th>\n",
       "      <th>send</th>\n",
       "      <th>surpri</th>\n",
       "      <th>youtub</th>\n",
       "    </tr>\n",
       "  </thead>\n",
       "  <tbody>\n",
       "    <tr>\n",
       "      <th>0</th>\n",
       "      <td>True</td>\n",
       "      <td>True</td>\n",
       "      <td>True</td>\n",
       "      <td>True</td>\n",
       "      <td>True</td>\n",
       "      <td>True</td>\n",
       "      <td>True</td>\n",
       "      <td>True</td>\n",
       "      <td>True</td>\n",
       "      <td>True</td>\n",
       "      <td>...</td>\n",
       "      <td>True</td>\n",
       "      <td>True</td>\n",
       "      <td>True</td>\n",
       "      <td>False</td>\n",
       "      <td>False</td>\n",
       "      <td>True</td>\n",
       "      <td>False</td>\n",
       "      <td>False</td>\n",
       "      <td>False</td>\n",
       "      <td>False</td>\n",
       "    </tr>\n",
       "    <tr>\n",
       "      <th>1</th>\n",
       "      <td>True</td>\n",
       "      <td>False</td>\n",
       "      <td>True</td>\n",
       "      <td>True</td>\n",
       "      <td>True</td>\n",
       "      <td>True</td>\n",
       "      <td>True</td>\n",
       "      <td>True</td>\n",
       "      <td>True</td>\n",
       "      <td>True</td>\n",
       "      <td>...</td>\n",
       "      <td>False</td>\n",
       "      <td>True</td>\n",
       "      <td>False</td>\n",
       "      <td>False</td>\n",
       "      <td>False</td>\n",
       "      <td>True</td>\n",
       "      <td>False</td>\n",
       "      <td>False</td>\n",
       "      <td>False</td>\n",
       "      <td>False</td>\n",
       "    </tr>\n",
       "    <tr>\n",
       "      <th>2</th>\n",
       "      <td>True</td>\n",
       "      <td>True</td>\n",
       "      <td>True</td>\n",
       "      <td>True</td>\n",
       "      <td>True</td>\n",
       "      <td>True</td>\n",
       "      <td>True</td>\n",
       "      <td>True</td>\n",
       "      <td>True</td>\n",
       "      <td>True</td>\n",
       "      <td>...</td>\n",
       "      <td>True</td>\n",
       "      <td>False</td>\n",
       "      <td>True</td>\n",
       "      <td>False</td>\n",
       "      <td>False</td>\n",
       "      <td>False</td>\n",
       "      <td>False</td>\n",
       "      <td>False</td>\n",
       "      <td>False</td>\n",
       "      <td>False</td>\n",
       "    </tr>\n",
       "    <tr>\n",
       "      <th>3</th>\n",
       "      <td>True</td>\n",
       "      <td>True</td>\n",
       "      <td>True</td>\n",
       "      <td>False</td>\n",
       "      <td>False</td>\n",
       "      <td>False</td>\n",
       "      <td>True</td>\n",
       "      <td>False</td>\n",
       "      <td>False</td>\n",
       "      <td>False</td>\n",
       "      <td>...</td>\n",
       "      <td>False</td>\n",
       "      <td>False</td>\n",
       "      <td>False</td>\n",
       "      <td>False</td>\n",
       "      <td>False</td>\n",
       "      <td>False</td>\n",
       "      <td>False</td>\n",
       "      <td>False</td>\n",
       "      <td>False</td>\n",
       "      <td>False</td>\n",
       "    </tr>\n",
       "    <tr>\n",
       "      <th>4</th>\n",
       "      <td>True</td>\n",
       "      <td>True</td>\n",
       "      <td>True</td>\n",
       "      <td>True</td>\n",
       "      <td>True</td>\n",
       "      <td>True</td>\n",
       "      <td>True</td>\n",
       "      <td>True</td>\n",
       "      <td>True</td>\n",
       "      <td>True</td>\n",
       "      <td>...</td>\n",
       "      <td>True</td>\n",
       "      <td>True</td>\n",
       "      <td>False</td>\n",
       "      <td>False</td>\n",
       "      <td>False</td>\n",
       "      <td>False</td>\n",
       "      <td>False</td>\n",
       "      <td>False</td>\n",
       "      <td>False</td>\n",
       "      <td>False</td>\n",
       "    </tr>\n",
       "  </tbody>\n",
       "</table>\n",
       "<p>5 rows × 500 columns</p>\n",
       "</div>"
      ],
      "text/plain": [
       "    one     oh  right     na   yeah    gon  want  think   look    got  ...  \\\n",
       "0  True   True   True   True   True   True  True   True   True   True  ...   \n",
       "1  True  False   True   True   True   True  True   True   True   True  ...   \n",
       "2  True   True   True   True   True   True  True   True   True   True  ...   \n",
       "3  True   True   True  False  False  False  True  False  False  False  ...   \n",
       "4  True   True   True   True   True   True  True   True   True   True  ...   \n",
       "\n",
       "    whoa  figur  delici  subscrib  option  price    air   send  surpri  youtub  \n",
       "0   True   True    True     False   False   True  False  False   False   False  \n",
       "1  False   True   False     False   False   True  False  False   False   False  \n",
       "2   True  False    True     False   False  False  False  False   False   False  \n",
       "3  False  False   False     False   False  False  False  False   False   False  \n",
       "4   True   True   False     False   False  False  False  False   False   False  \n",
       "\n",
       "[5 rows x 500 columns]"
      ]
     },
     "execution_count": 24,
     "metadata": {},
     "output_type": "execute_result"
    }
   ],
   "source": [
    "def document_features(df, stemmed_tokens):\n",
    "    doc_features = []\n",
    "    for index, row in df.iterrows():\n",
    "        features = {}\n",
    "        for word in word_features:\n",
    "            # get term occurence: true if it's in the word_features, false if it's not\n",
    "            features[word] = (word in row[stemmed_tokens])\n",
    "        doc_features.append(features)\n",
    "    return doc_features\n",
    "\n",
    "feature_set = pd.DataFrame(document_features(df_cleaned, 'text'), index = df_cleaned.index)\n",
    "feature_set.head()"
   ]
  },
  {
   "cell_type": "markdown",
   "metadata": {
    "tags": []
   },
   "source": [
    "<h4> BOW Set </h4>"
   ]
  },
  {
   "cell_type": "code",
   "execution_count": 25,
   "metadata": {},
   "outputs": [
    {
     "data": {
      "text/html": [
       "<div>\n",
       "<style scoped>\n",
       "    .dataframe tbody tr th:only-of-type {\n",
       "        vertical-align: middle;\n",
       "    }\n",
       "\n",
       "    .dataframe tbody tr th {\n",
       "        vertical-align: top;\n",
       "    }\n",
       "\n",
       "    .dataframe thead th {\n",
       "        text-align: right;\n",
       "    }\n",
       "</style>\n",
       "<table border=\"1\" class=\"dataframe\">\n",
       "  <thead>\n",
       "    <tr style=\"text-align: right;\">\n",
       "      <th></th>\n",
       "      <th>text</th>\n",
       "      <th>Category</th>\n",
       "      <th>Processed_text</th>\n",
       "    </tr>\n",
       "  </thead>\n",
       "  <tbody>\n",
       "    <tr>\n",
       "      <th>0</th>\n",
       "      <td>[pizza, hut, stuf, crust, pizza, fanci, fast, ...</td>\n",
       "      <td>Food</td>\n",
       "      <td>pizza hut stuf crust pizza fanci fast food myt...</td>\n",
       "    </tr>\n",
       "    <tr>\n",
       "      <th>1</th>\n",
       "      <td>[icon, pizza, slice, nyc, street, food, iconsi...</td>\n",
       "      <td>Food</td>\n",
       "      <td>icon pizza slice nyc street food iconsif want ...</td>\n",
       "    </tr>\n",
       "    <tr>\n",
       "      <th>2</th>\n",
       "      <td>[ron, swanson, papa, pawn, park, recreationapr...</td>\n",
       "      <td>Entertainment,Comedy</td>\n",
       "      <td>ron swanson papa pawn park recreationapril two...</td>\n",
       "    </tr>\n",
       "    <tr>\n",
       "      <th>3</th>\n",
       "      <td>[doctor, defeat, abzorbaloff, love, monster, d...</td>\n",
       "      <td>Entertainment</td>\n",
       "      <td>doctor defeat abzorbaloff love monster doctor ...</td>\n",
       "    </tr>\n",
       "    <tr>\n",
       "      <th>4</th>\n",
       "      <td>[live, pd, view, moment, walton, counti, fl, e...</td>\n",
       "      <td>News</td>\n",
       "      <td>live pd view moment walton counti fl e music p...</td>\n",
       "    </tr>\n",
       "  </tbody>\n",
       "</table>\n",
       "</div>"
      ],
      "text/plain": [
       "                                                text              Category  \\\n",
       "0  [pizza, hut, stuf, crust, pizza, fanci, fast, ...                  Food   \n",
       "1  [icon, pizza, slice, nyc, street, food, iconsi...                  Food   \n",
       "2  [ron, swanson, papa, pawn, park, recreationapr...  Entertainment,Comedy   \n",
       "3  [doctor, defeat, abzorbaloff, love, monster, d...         Entertainment   \n",
       "4  [live, pd, view, moment, walton, counti, fl, e...                  News   \n",
       "\n",
       "                                      Processed_text  \n",
       "0  pizza hut stuf crust pizza fanci fast food myt...  \n",
       "1  icon pizza slice nyc street food iconsif want ...  \n",
       "2  ron swanson papa pawn park recreationapril two...  \n",
       "3  doctor defeat abzorbaloff love monster doctor ...  \n",
       "4  live pd view moment walton counti fl e music p...  "
      ]
     },
     "execution_count": 25,
     "metadata": {},
     "output_type": "execute_result"
    }
   ],
   "source": [
    "df_cleaned[\"Processed_text\"] = df_cleaned[\"text\"].apply(lambda x: \" \".join(x))\n",
    "df_cleaned.head()"
   ]
  },
  {
   "cell_type": "code",
   "execution_count": 26,
   "metadata": {},
   "outputs": [
    {
     "data": {
      "text/html": [
       "<div>\n",
       "<style scoped>\n",
       "    .dataframe tbody tr th:only-of-type {\n",
       "        vertical-align: middle;\n",
       "    }\n",
       "\n",
       "    .dataframe tbody tr th {\n",
       "        vertical-align: top;\n",
       "    }\n",
       "\n",
       "    .dataframe thead th {\n",
       "        text-align: right;\n",
       "    }\n",
       "</style>\n",
       "<table border=\"1\" class=\"dataframe\">\n",
       "  <thead>\n",
       "    <tr style=\"text-align: right;\">\n",
       "      <th></th>\n",
       "      <th>aa</th>\n",
       "      <th>aaa</th>\n",
       "      <th>aaaa</th>\n",
       "      <th>aaaaaaa</th>\n",
       "      <th>aaaaaaaa</th>\n",
       "      <th>aaaaaaaaaaaaaaaaaaaa</th>\n",
       "      <th>aaaaaaaaaaaaaaaaaaaaaaaa</th>\n",
       "      <th>aaaaaaaaaaaaaaaaaaaaaaaaaaaaaaaaaaaaa</th>\n",
       "      <th>aaaaaaaaaaaaaaaaaaaaaaaaaaaaaaaaaaaaaaaaaaaaaaaaaaaaaaaaaaaaaaaaaaaaaaaaaaaaaaaaaaaaaaaaaaaaaaaaaaaaaaaaaaaaaaaaaa</th>\n",
       "      <th>aaaaaaaaaaaaaaaaah</th>\n",
       "      <th>...</th>\n",
       "      <th>zumba</th>\n",
       "      <th>zurkon</th>\n",
       "      <th>zushi</th>\n",
       "      <th>zuzu</th>\n",
       "      <th>zygon</th>\n",
       "      <th>zzt</th>\n",
       "      <th>zzzzzzz</th>\n",
       "      <th>zzzzzzzzz</th>\n",
       "      <th>zzzzzzzzzz</th>\n",
       "      <th>zzzzzzzzzzz</th>\n",
       "    </tr>\n",
       "  </thead>\n",
       "  <tbody>\n",
       "    <tr>\n",
       "      <th>0</th>\n",
       "      <td>0</td>\n",
       "      <td>0</td>\n",
       "      <td>0</td>\n",
       "      <td>0</td>\n",
       "      <td>0</td>\n",
       "      <td>0</td>\n",
       "      <td>0</td>\n",
       "      <td>0</td>\n",
       "      <td>0</td>\n",
       "      <td>0</td>\n",
       "      <td>...</td>\n",
       "      <td>0</td>\n",
       "      <td>0</td>\n",
       "      <td>0</td>\n",
       "      <td>0</td>\n",
       "      <td>0</td>\n",
       "      <td>0</td>\n",
       "      <td>0</td>\n",
       "      <td>0</td>\n",
       "      <td>0</td>\n",
       "      <td>0</td>\n",
       "    </tr>\n",
       "    <tr>\n",
       "      <th>1</th>\n",
       "      <td>0</td>\n",
       "      <td>0</td>\n",
       "      <td>0</td>\n",
       "      <td>0</td>\n",
       "      <td>0</td>\n",
       "      <td>0</td>\n",
       "      <td>0</td>\n",
       "      <td>0</td>\n",
       "      <td>0</td>\n",
       "      <td>0</td>\n",
       "      <td>...</td>\n",
       "      <td>0</td>\n",
       "      <td>0</td>\n",
       "      <td>0</td>\n",
       "      <td>0</td>\n",
       "      <td>0</td>\n",
       "      <td>0</td>\n",
       "      <td>0</td>\n",
       "      <td>0</td>\n",
       "      <td>0</td>\n",
       "      <td>0</td>\n",
       "    </tr>\n",
       "    <tr>\n",
       "      <th>2</th>\n",
       "      <td>0</td>\n",
       "      <td>0</td>\n",
       "      <td>0</td>\n",
       "      <td>0</td>\n",
       "      <td>0</td>\n",
       "      <td>0</td>\n",
       "      <td>0</td>\n",
       "      <td>0</td>\n",
       "      <td>0</td>\n",
       "      <td>0</td>\n",
       "      <td>...</td>\n",
       "      <td>0</td>\n",
       "      <td>0</td>\n",
       "      <td>0</td>\n",
       "      <td>0</td>\n",
       "      <td>0</td>\n",
       "      <td>0</td>\n",
       "      <td>0</td>\n",
       "      <td>0</td>\n",
       "      <td>0</td>\n",
       "      <td>0</td>\n",
       "    </tr>\n",
       "    <tr>\n",
       "      <th>3</th>\n",
       "      <td>0</td>\n",
       "      <td>0</td>\n",
       "      <td>0</td>\n",
       "      <td>0</td>\n",
       "      <td>0</td>\n",
       "      <td>0</td>\n",
       "      <td>0</td>\n",
       "      <td>0</td>\n",
       "      <td>0</td>\n",
       "      <td>0</td>\n",
       "      <td>...</td>\n",
       "      <td>0</td>\n",
       "      <td>0</td>\n",
       "      <td>0</td>\n",
       "      <td>0</td>\n",
       "      <td>0</td>\n",
       "      <td>0</td>\n",
       "      <td>0</td>\n",
       "      <td>0</td>\n",
       "      <td>0</td>\n",
       "      <td>0</td>\n",
       "    </tr>\n",
       "    <tr>\n",
       "      <th>4</th>\n",
       "      <td>0</td>\n",
       "      <td>0</td>\n",
       "      <td>0</td>\n",
       "      <td>0</td>\n",
       "      <td>0</td>\n",
       "      <td>0</td>\n",
       "      <td>0</td>\n",
       "      <td>0</td>\n",
       "      <td>0</td>\n",
       "      <td>0</td>\n",
       "      <td>...</td>\n",
       "      <td>0</td>\n",
       "      <td>0</td>\n",
       "      <td>0</td>\n",
       "      <td>0</td>\n",
       "      <td>0</td>\n",
       "      <td>0</td>\n",
       "      <td>0</td>\n",
       "      <td>0</td>\n",
       "      <td>0</td>\n",
       "      <td>0</td>\n",
       "    </tr>\n",
       "  </tbody>\n",
       "</table>\n",
       "<p>5 rows × 35191 columns</p>\n",
       "</div>"
      ],
      "text/plain": [
       "   aa  aaa  aaaa  aaaaaaa  aaaaaaaa  aaaaaaaaaaaaaaaaaaaa  \\\n",
       "0   0    0     0        0         0                     0   \n",
       "1   0    0     0        0         0                     0   \n",
       "2   0    0     0        0         0                     0   \n",
       "3   0    0     0        0         0                     0   \n",
       "4   0    0     0        0         0                     0   \n",
       "\n",
       "   aaaaaaaaaaaaaaaaaaaaaaaa  aaaaaaaaaaaaaaaaaaaaaaaaaaaaaaaaaaaaa  \\\n",
       "0                         0                                      0   \n",
       "1                         0                                      0   \n",
       "2                         0                                      0   \n",
       "3                         0                                      0   \n",
       "4                         0                                      0   \n",
       "\n",
       "   aaaaaaaaaaaaaaaaaaaaaaaaaaaaaaaaaaaaaaaaaaaaaaaaaaaaaaaaaaaaaaaaaaaaaaaaaaaaaaaaaaaaaaaaaaaaaaaaaaaaaaaaaaaaaaaaaa  \\\n",
       "0                                                  0                                                                    \n",
       "1                                                  0                                                                    \n",
       "2                                                  0                                                                    \n",
       "3                                                  0                                                                    \n",
       "4                                                  0                                                                    \n",
       "\n",
       "   aaaaaaaaaaaaaaaaah  ...  zumba  zurkon  zushi  zuzu  zygon  zzt  zzzzzzz  \\\n",
       "0                   0  ...      0       0      0     0      0    0        0   \n",
       "1                   0  ...      0       0      0     0      0    0        0   \n",
       "2                   0  ...      0       0      0     0      0    0        0   \n",
       "3                   0  ...      0       0      0     0      0    0        0   \n",
       "4                   0  ...      0       0      0     0      0    0        0   \n",
       "\n",
       "   zzzzzzzzz  zzzzzzzzzz  zzzzzzzzzzz  \n",
       "0          0           0            0  \n",
       "1          0           0            0  \n",
       "2          0           0            0  \n",
       "3          0           0            0  \n",
       "4          0           0            0  \n",
       "\n",
       "[5 rows x 35191 columns]"
      ]
     },
     "execution_count": 26,
     "metadata": {},
     "output_type": "execute_result"
    }
   ],
   "source": [
    "countvectorizer = CountVectorizer(analyzer= 'word', stop_words='english')\n",
    "count_wm = countvectorizer.fit_transform(df_cleaned[\"Processed_text\"])\n",
    "bow_features = pd.DataFrame(data = count_wm.toarray(),columns = countvectorizer.get_feature_names_out())\n",
    "bow_features.head()"
   ]
  },
  {
   "cell_type": "code",
   "execution_count": 27,
   "metadata": {},
   "outputs": [],
   "source": [
    "# import gensim\n",
    "# from gensim import corpora\n",
    "\n",
    "# # Build the dictionary\n",
    "# mydict = corpora.Dictionary(df_cleaned['text'])\n",
    "# vocab_len = len(mydict)\n",
    "\n",
    "# def get_bow_features(df, stemmed_tokens):\n",
    "#     test_features = []\n",
    "#     for index, row in df.iterrows():\n",
    "#         # Converting the tokens into the format that the model requires\n",
    "#         features = gensim.matutils.corpus2csc([mydict.doc2bow(row[stemmed_tokens])],num_terms=vocab_len).toarray()[:,0]\n",
    "#         test_features.append(features)\n",
    "#     return test_features\n",
    "\n",
    "# header = \",\".join(str(mydict[ele]) for ele in range(vocab_len))\n",
    "\n",
    "# bow_features = pd.DataFrame(get_bow_features(df_cleaned, 'text'),                            \n",
    "#                             columns=header.split(','), index = df_cleaned.index)\n",
    "# bow_features.head()"
   ]
  },
  {
   "cell_type": "markdown",
   "metadata": {
    "tags": []
   },
   "source": [
    "<h4> TFIDF Set </h4>"
   ]
  },
  {
   "cell_type": "code",
   "execution_count": 28,
   "metadata": {},
   "outputs": [
    {
     "data": {
      "text/html": [
       "<div>\n",
       "<style scoped>\n",
       "    .dataframe tbody tr th:only-of-type {\n",
       "        vertical-align: middle;\n",
       "    }\n",
       "\n",
       "    .dataframe tbody tr th {\n",
       "        vertical-align: top;\n",
       "    }\n",
       "\n",
       "    .dataframe thead th {\n",
       "        text-align: right;\n",
       "    }\n",
       "</style>\n",
       "<table border=\"1\" class=\"dataframe\">\n",
       "  <thead>\n",
       "    <tr style=\"text-align: right;\">\n",
       "      <th></th>\n",
       "      <th>aa</th>\n",
       "      <th>aaa</th>\n",
       "      <th>aaaa</th>\n",
       "      <th>aaaaaaa</th>\n",
       "      <th>aaaaaaaa</th>\n",
       "      <th>aaaaaaaaaaaaaaaaaaaa</th>\n",
       "      <th>aaaaaaaaaaaaaaaaaaaaaaaa</th>\n",
       "      <th>aaaaaaaaaaaaaaaaaaaaaaaaaaaaaaaaaaaaa</th>\n",
       "      <th>aaaaaaaaaaaaaaaaaaaaaaaaaaaaaaaaaaaaaaaaaaaaaaaaaaaaaaaaaaaaaaaaaaaaaaaaaaaaaaaaaaaaaaaaaaaaaaaaaaaaaaaaaaaaaaaaaa</th>\n",
       "      <th>aaaaaaaaaaaaaaaaah</th>\n",
       "      <th>...</th>\n",
       "      <th>zumba</th>\n",
       "      <th>zurkon</th>\n",
       "      <th>zushi</th>\n",
       "      <th>zuzu</th>\n",
       "      <th>zygon</th>\n",
       "      <th>zzt</th>\n",
       "      <th>zzzzzzz</th>\n",
       "      <th>zzzzzzzzz</th>\n",
       "      <th>zzzzzzzzzz</th>\n",
       "      <th>zzzzzzzzzzz</th>\n",
       "    </tr>\n",
       "  </thead>\n",
       "  <tbody>\n",
       "    <tr>\n",
       "      <th>0</th>\n",
       "      <td>0.0</td>\n",
       "      <td>0.0</td>\n",
       "      <td>0.0</td>\n",
       "      <td>0.0</td>\n",
       "      <td>0.0</td>\n",
       "      <td>0.0</td>\n",
       "      <td>0.0</td>\n",
       "      <td>0.0</td>\n",
       "      <td>0.0</td>\n",
       "      <td>0.0</td>\n",
       "      <td>...</td>\n",
       "      <td>0.0</td>\n",
       "      <td>0.0</td>\n",
       "      <td>0.0</td>\n",
       "      <td>0.0</td>\n",
       "      <td>0.0</td>\n",
       "      <td>0.0</td>\n",
       "      <td>0.0</td>\n",
       "      <td>0.0</td>\n",
       "      <td>0.0</td>\n",
       "      <td>0.0</td>\n",
       "    </tr>\n",
       "    <tr>\n",
       "      <th>1</th>\n",
       "      <td>0.0</td>\n",
       "      <td>0.0</td>\n",
       "      <td>0.0</td>\n",
       "      <td>0.0</td>\n",
       "      <td>0.0</td>\n",
       "      <td>0.0</td>\n",
       "      <td>0.0</td>\n",
       "      <td>0.0</td>\n",
       "      <td>0.0</td>\n",
       "      <td>0.0</td>\n",
       "      <td>...</td>\n",
       "      <td>0.0</td>\n",
       "      <td>0.0</td>\n",
       "      <td>0.0</td>\n",
       "      <td>0.0</td>\n",
       "      <td>0.0</td>\n",
       "      <td>0.0</td>\n",
       "      <td>0.0</td>\n",
       "      <td>0.0</td>\n",
       "      <td>0.0</td>\n",
       "      <td>0.0</td>\n",
       "    </tr>\n",
       "    <tr>\n",
       "      <th>2</th>\n",
       "      <td>0.0</td>\n",
       "      <td>0.0</td>\n",
       "      <td>0.0</td>\n",
       "      <td>0.0</td>\n",
       "      <td>0.0</td>\n",
       "      <td>0.0</td>\n",
       "      <td>0.0</td>\n",
       "      <td>0.0</td>\n",
       "      <td>0.0</td>\n",
       "      <td>0.0</td>\n",
       "      <td>...</td>\n",
       "      <td>0.0</td>\n",
       "      <td>0.0</td>\n",
       "      <td>0.0</td>\n",
       "      <td>0.0</td>\n",
       "      <td>0.0</td>\n",
       "      <td>0.0</td>\n",
       "      <td>0.0</td>\n",
       "      <td>0.0</td>\n",
       "      <td>0.0</td>\n",
       "      <td>0.0</td>\n",
       "    </tr>\n",
       "    <tr>\n",
       "      <th>3</th>\n",
       "      <td>0.0</td>\n",
       "      <td>0.0</td>\n",
       "      <td>0.0</td>\n",
       "      <td>0.0</td>\n",
       "      <td>0.0</td>\n",
       "      <td>0.0</td>\n",
       "      <td>0.0</td>\n",
       "      <td>0.0</td>\n",
       "      <td>0.0</td>\n",
       "      <td>0.0</td>\n",
       "      <td>...</td>\n",
       "      <td>0.0</td>\n",
       "      <td>0.0</td>\n",
       "      <td>0.0</td>\n",
       "      <td>0.0</td>\n",
       "      <td>0.0</td>\n",
       "      <td>0.0</td>\n",
       "      <td>0.0</td>\n",
       "      <td>0.0</td>\n",
       "      <td>0.0</td>\n",
       "      <td>0.0</td>\n",
       "    </tr>\n",
       "    <tr>\n",
       "      <th>4</th>\n",
       "      <td>0.0</td>\n",
       "      <td>0.0</td>\n",
       "      <td>0.0</td>\n",
       "      <td>0.0</td>\n",
       "      <td>0.0</td>\n",
       "      <td>0.0</td>\n",
       "      <td>0.0</td>\n",
       "      <td>0.0</td>\n",
       "      <td>0.0</td>\n",
       "      <td>0.0</td>\n",
       "      <td>...</td>\n",
       "      <td>0.0</td>\n",
       "      <td>0.0</td>\n",
       "      <td>0.0</td>\n",
       "      <td>0.0</td>\n",
       "      <td>0.0</td>\n",
       "      <td>0.0</td>\n",
       "      <td>0.0</td>\n",
       "      <td>0.0</td>\n",
       "      <td>0.0</td>\n",
       "      <td>0.0</td>\n",
       "    </tr>\n",
       "  </tbody>\n",
       "</table>\n",
       "<p>5 rows × 35191 columns</p>\n",
       "</div>"
      ],
      "text/plain": [
       "    aa  aaa  aaaa  aaaaaaa  aaaaaaaa  aaaaaaaaaaaaaaaaaaaa  \\\n",
       "0  0.0  0.0   0.0      0.0       0.0                   0.0   \n",
       "1  0.0  0.0   0.0      0.0       0.0                   0.0   \n",
       "2  0.0  0.0   0.0      0.0       0.0                   0.0   \n",
       "3  0.0  0.0   0.0      0.0       0.0                   0.0   \n",
       "4  0.0  0.0   0.0      0.0       0.0                   0.0   \n",
       "\n",
       "   aaaaaaaaaaaaaaaaaaaaaaaa  aaaaaaaaaaaaaaaaaaaaaaaaaaaaaaaaaaaaa  \\\n",
       "0                       0.0                                    0.0   \n",
       "1                       0.0                                    0.0   \n",
       "2                       0.0                                    0.0   \n",
       "3                       0.0                                    0.0   \n",
       "4                       0.0                                    0.0   \n",
       "\n",
       "   aaaaaaaaaaaaaaaaaaaaaaaaaaaaaaaaaaaaaaaaaaaaaaaaaaaaaaaaaaaaaaaaaaaaaaaaaaaaaaaaaaaaaaaaaaaaaaaaaaaaaaaaaaaaaaaaaa  \\\n",
       "0                                                0.0                                                                    \n",
       "1                                                0.0                                                                    \n",
       "2                                                0.0                                                                    \n",
       "3                                                0.0                                                                    \n",
       "4                                                0.0                                                                    \n",
       "\n",
       "   aaaaaaaaaaaaaaaaah  ...  zumba  zurkon  zushi  zuzu  zygon  zzt  zzzzzzz  \\\n",
       "0                 0.0  ...    0.0     0.0    0.0   0.0    0.0  0.0      0.0   \n",
       "1                 0.0  ...    0.0     0.0    0.0   0.0    0.0  0.0      0.0   \n",
       "2                 0.0  ...    0.0     0.0    0.0   0.0    0.0  0.0      0.0   \n",
       "3                 0.0  ...    0.0     0.0    0.0   0.0    0.0  0.0      0.0   \n",
       "4                 0.0  ...    0.0     0.0    0.0   0.0    0.0  0.0      0.0   \n",
       "\n",
       "   zzzzzzzzz  zzzzzzzzzz  zzzzzzzzzzz  \n",
       "0        0.0         0.0          0.0  \n",
       "1        0.0         0.0          0.0  \n",
       "2        0.0         0.0          0.0  \n",
       "3        0.0         0.0          0.0  \n",
       "4        0.0         0.0          0.0  \n",
       "\n",
       "[5 rows x 35191 columns]"
      ]
     },
     "execution_count": 28,
     "metadata": {},
     "output_type": "execute_result"
    }
   ],
   "source": [
    "tfidfvectorizer = TfidfVectorizer(analyzer='word' , stop_words='english')\n",
    "tfidf_term_vectors = tfidfvectorizer.fit_transform(df_cleaned[\"Processed_text\"])\n",
    "tfidf_features = pd.DataFrame(data = tfidf_term_vectors.toarray(),columns = tfidfvectorizer.get_feature_names_out())\n",
    "tfidf_features.head()"
   ]
  },
  {
   "cell_type": "code",
   "execution_count": 29,
   "metadata": {},
   "outputs": [],
   "source": [
    "# import gensim\n",
    "# from gensim import corpora\n",
    "# from gensim.models import TfidfModel\n",
    "\n",
    "# # Build the dictionary\n",
    "# mydict = corpora.Dictionary(df_cleaned['text'])\n",
    "# vocab_len = len(mydict)\n",
    "# corpus = [mydict.doc2bow(line) for line in df_cleaned['text']]\n",
    "# tfidf_model = TfidfModel(corpus)\n",
    "\n",
    "# def get_tfidf_features(df, stemmed_tokens):\n",
    "#     test_features_tfidf = []\n",
    "#     for index, row in df.iterrows():\n",
    "#         doc = mydict.doc2bow(row[stemmed_tokens])\n",
    "#         # Converting the tokens into the formet that the model requires\n",
    "#         features = gensim.matutils.corpus2csc([tfidf_model[doc]], num_terms=vocab_len).toarray()[:,0]\n",
    "#         test_features_tfidf.append(features)\n",
    "#     return test_features_tfidf\n",
    "\n",
    "# header = \",\".join(str(mydict[ele]) for ele in range(vocab_len))\n",
    "\n",
    "# tfidf_features = pd.DataFrame(get_tfidf_features(df_cleaned, 'text'),                            \n",
    "#                             columns=header.split(','), index = df_cleaned.index)\n",
    "# tfidf_features.head()"
   ]
  },
  {
   "cell_type": "markdown",
   "metadata": {
    "tags": []
   },
   "source": [
    "<h4> Transforming Y Label </h4>"
   ]
  },
  {
   "cell_type": "code",
   "execution_count": 30,
   "metadata": {},
   "outputs": [],
   "source": [
    "from sklearn.preprocessing import MultiLabelBinarizer\n",
    "y = df_cleaned[\"Category\"].apply(lambda x: x.split(sep=','))"
   ]
  },
  {
   "cell_type": "code",
   "execution_count": 31,
   "metadata": {},
   "outputs": [
    {
     "data": {
      "text/html": [
       "<div>\n",
       "<style scoped>\n",
       "    .dataframe tbody tr th:only-of-type {\n",
       "        vertical-align: middle;\n",
       "    }\n",
       "\n",
       "    .dataframe tbody tr th {\n",
       "        vertical-align: top;\n",
       "    }\n",
       "\n",
       "    .dataframe thead th {\n",
       "        text-align: right;\n",
       "    }\n",
       "</style>\n",
       "<table border=\"1\" class=\"dataframe\">\n",
       "  <thead>\n",
       "    <tr style=\"text-align: right;\">\n",
       "      <th></th>\n",
       "      <th>Comedy</th>\n",
       "      <th>Entertainment</th>\n",
       "      <th>Food</th>\n",
       "      <th>News</th>\n",
       "      <th>Tech</th>\n",
       "      <th>VideoGames</th>\n",
       "    </tr>\n",
       "  </thead>\n",
       "  <tbody>\n",
       "    <tr>\n",
       "      <th>0</th>\n",
       "      <td>0</td>\n",
       "      <td>0</td>\n",
       "      <td>1</td>\n",
       "      <td>0</td>\n",
       "      <td>0</td>\n",
       "      <td>0</td>\n",
       "    </tr>\n",
       "    <tr>\n",
       "      <th>1</th>\n",
       "      <td>0</td>\n",
       "      <td>0</td>\n",
       "      <td>1</td>\n",
       "      <td>0</td>\n",
       "      <td>0</td>\n",
       "      <td>0</td>\n",
       "    </tr>\n",
       "    <tr>\n",
       "      <th>2</th>\n",
       "      <td>1</td>\n",
       "      <td>1</td>\n",
       "      <td>0</td>\n",
       "      <td>0</td>\n",
       "      <td>0</td>\n",
       "      <td>0</td>\n",
       "    </tr>\n",
       "    <tr>\n",
       "      <th>3</th>\n",
       "      <td>0</td>\n",
       "      <td>1</td>\n",
       "      <td>0</td>\n",
       "      <td>0</td>\n",
       "      <td>0</td>\n",
       "      <td>0</td>\n",
       "    </tr>\n",
       "    <tr>\n",
       "      <th>4</th>\n",
       "      <td>0</td>\n",
       "      <td>0</td>\n",
       "      <td>0</td>\n",
       "      <td>1</td>\n",
       "      <td>0</td>\n",
       "      <td>0</td>\n",
       "    </tr>\n",
       "  </tbody>\n",
       "</table>\n",
       "</div>"
      ],
      "text/plain": [
       "   Comedy  Entertainment  Food  News  Tech  VideoGames\n",
       "0       0              0     1     0     0           0\n",
       "1       0              0     1     0     0           0\n",
       "2       1              1     0     0     0           0\n",
       "3       0              1     0     0     0           0\n",
       "4       0              0     0     1     0           0"
      ]
     },
     "execution_count": 31,
     "metadata": {},
     "output_type": "execute_result"
    }
   ],
   "source": [
    "mlb = MultiLabelBinarizer()\n",
    "y = pd.DataFrame(mlb.fit_transform(y),columns=mlb.classes_, index=df_cleaned.index)\n",
    "y.head()"
   ]
  },
  {
   "cell_type": "markdown",
   "metadata": {
    "tags": []
   },
   "source": [
    "## Modelling\n",
    "Perform the necessary steps and explain the rationale taken here.\n",
    "\n"
   ]
  },
  {
   "cell_type": "code",
   "execution_count": 32,
   "metadata": {},
   "outputs": [],
   "source": [
    "# Multilabel Transformers\n",
    "from skmultilearn.problem_transform import ClassifierChain #Take in account relation between labels#\n",
    "from skmultilearn.problem_transform import BinaryRelevance #Convert to binary output per label#\n",
    "from skmultilearn.problem_transform import LabelPowerset #Convert to binary output per label combination#\n",
    "\n",
    "# Models\n",
    "from sklearn.linear_model import RidgeClassifier\n",
    "from sklearn.naive_bayes import MultinomialNB\n",
    "from sklearn.ensemble import RandomForestClassifier\n",
    "from sklearn.neural_network import MLPClassifier\n",
    "\n",
    "# Train Test Split\n",
    "from sklearn.model_selection import train_test_split"
   ]
  },
  {
   "cell_type": "code",
   "execution_count": 33,
   "metadata": {
    "jupyter": {
     "source_hidden": true
    },
    "tags": []
   },
   "outputs": [],
   "source": [
    "def modelTester(model, transformer, X, y, n=5):\n",
    "    f1_scores = []\n",
    "    hamming_losses = []\n",
    "    \n",
    "    for i in range(n):\n",
    "        X_train, X_test, y_train, y_test = train_test_split(X.to_numpy(), y, test_size=0.2,stratify=y)\n",
    "\n",
    "        classifer = transformer(model)\n",
    "        classifer.fit(X_train, y_train)\n",
    "\n",
    "        y_pred = classifer.predict(X_test).toarray()\n",
    "\n",
    "        f1_scores.append(f1_score(y_test, y_pred, average=\"weighted\"))\n",
    "        hamming_losses.append(hamming_loss(y_test, y_pred))\n",
    "        \n",
    "    metricList = []\n",
    "    metricList.append(mean(f1_scores))\n",
    "    metricList.append(mean(hamming_losses))\n",
    "    \n",
    "    return metricList"
   ]
  },
  {
   "cell_type": "code",
   "execution_count": 34,
   "metadata": {},
   "outputs": [],
   "source": [
    "modelList = [RandomForestClassifier(n_jobs=-1, random_state=42), MLPClassifier(early_stopping=True,random_state=42), RidgeClassifier(random_state=42), MultinomialNB()]\n",
    "transformerList = [ClassifierChain, BinaryRelevance, LabelPowerset]\n",
    "datasets = [feature_set, bow_features, tfidf_features]\n",
    "\n",
    "modelNames = \"Random Forest,MLPClassifer,RidgeClassifier,MultinomialNB\".split(sep=\",\")\n",
    "transformerNames = \"ClassiferChain,BinaryRelevance,LabelPowerset\".split(sep=\",\")\n",
    "datasetNames = \"FeatureSet,BOW,TFIDF\".split(sep=\",\")"
   ]
  },
  {
   "cell_type": "code",
   "execution_count": 35,
   "metadata": {},
   "outputs": [],
   "source": [
    "results = {}\n",
    "\n",
    "# Making Result Template\n",
    "for dataset in datasetNames:\n",
    "    tmp_dict = {}\n",
    "    for transformer in transformerNames:\n",
    "        tmp_dict2 = {}\n",
    "        for model in modelNames:\n",
    "            tmp_dict2[model] = []\n",
    "        tmp_dict[transformer] = tmp_dict2\n",
    "    results[dataset] = tmp_dict"
   ]
  },
  {
   "cell_type": "code",
   "execution_count": 36,
   "metadata": {},
   "outputs": [],
   "source": [
    "import time\n",
    "st = time.time()"
   ]
  },
  {
   "cell_type": "code",
   "execution_count": 37,
   "metadata": {},
   "outputs": [
    {
     "name": "stdout",
     "output_type": "stream",
     "text": [
      "Starting with modelling on FeatureSet\n",
      "Done with modelling on FeatureSet\n",
      "\n",
      "Starting with modelling on BOW\n",
      "Done with modelling on BOW\n",
      "\n",
      "Starting with modelling on TFIDF\n",
      "Done with modelling on TFIDF\n",
      "\n"
     ]
    }
   ],
   "source": [
    "for d_i, dataset in enumerate(datasets):\n",
    "    print(\"Starting with modelling on %s\" % datasetNames[d_i])\n",
    "    for t_i, transformer in enumerate(transformerList):\n",
    "        for m_i, model in enumerate(modelList):\n",
    "            results[datasetNames[d_i]][transformerNames[t_i]][modelNames[m_i]] = modelTester(model, transformer, dataset, y)\n",
    "    print(\"Done with modelling on %s\" % datasetNames[d_i])\n",
    "    print(\"\")"
   ]
  },
  {
   "cell_type": "code",
   "execution_count": 38,
   "metadata": {},
   "outputs": [],
   "source": [
    "et = time.time()"
   ]
  },
  {
   "cell_type": "code",
   "execution_count": 39,
   "metadata": {},
   "outputs": [
    {
     "name": "stdout",
     "output_type": "stream",
     "text": [
      "Execution time: 2949.9805953502655 seconds\n"
     ]
    }
   ],
   "source": [
    "elapsed_time = et - st\n",
    "print('Execution time:', elapsed_time, 'seconds')"
   ]
  },
  {
   "cell_type": "markdown",
   "metadata": {
    "tags": []
   },
   "source": [
    "## Evaluation\n",
    "Perform the necessary steps and explain the rationale taken here.\n",
    "\n"
   ]
  },
  {
   "cell_type": "code",
   "execution_count": 40,
   "metadata": {},
   "outputs": [],
   "source": [
    "feature_set_result = results[\"FeatureSet\"]\n",
    "bow_result = results[\"BOW\"]\n",
    "tfidf_result = results[\"TFIDF\"]"
   ]
  },
  {
   "cell_type": "markdown",
   "metadata": {
    "tags": []
   },
   "source": [
    "<h4> Functions to get Result Plots </h4>"
   ]
  },
  {
   "cell_type": "code",
   "execution_count": 41,
   "metadata": {
    "jupyter": {
     "source_hidden": true
    },
    "tags": []
   },
   "outputs": [],
   "source": [
    "def get_model_results(dataset_result, n):\n",
    "    mlp_results = []\n",
    "    mnb_results = []\n",
    "    rforest_results = [] \n",
    "    ridge_results = []\n",
    "\n",
    "    for transformer_res in dataset_result.values():\n",
    "        mlp_results.append(transformer_res[\"MLPClassifer\"][n])\n",
    "        mnb_results.append(transformer_res[\"MultinomialNB\"][n])\n",
    "        rforest_results.append(transformer_res[\"Random Forest\"][n])\n",
    "        ridge_results.append(transformer_res[\"RidgeClassifier\"][n])\n",
    "        \n",
    "    return mlp_results, mnb_results, rforest_results, ridge_results"
   ]
  },
  {
   "cell_type": "code",
   "execution_count": 42,
   "metadata": {
    "jupyter": {
     "source_hidden": true
    },
    "tags": []
   },
   "outputs": [],
   "source": [
    "def getTopModel(datasetName, dataset_result):\n",
    "    top3 = [[]]*3\n",
    "    first, second, third = 0, 0, 0\n",
    "\n",
    "    for transformer,transformer_res in dataset_result.items():\n",
    "        for model, model_res in transformer_res.items():\n",
    "            trans_model = [transformer, model]\n",
    "            if model_res[0] > first:\n",
    "                first = model_res[0]\n",
    "                top3.insert(0, trans_model)\n",
    "                top3.pop()\n",
    "            elif model_res[0] > second:\n",
    "                second = model_res[0]\n",
    "                top3.insert(1, trans_model)\n",
    "                top3.pop()\n",
    "            else:\n",
    "                third = model_res[0]\n",
    "                top3[-1] = trans_model\n",
    "    print(\"Top 3 Models for %s\" % datasetName)\n",
    "    print()\n",
    "    for trans_model in top3:\n",
    "        scores = dataset_result[trans_model[0]][trans_model[1]]\n",
    "        print(\"%s Weighted F1 Score: %.5f, Hamming Loss: %.5f\" % (\"-\".join(trans_model), scores[0], scores[1]))\n",
    "        print()"
   ]
  },
  {
   "cell_type": "code",
   "execution_count": 43,
   "metadata": {
    "jupyter": {
     "source_hidden": true
    },
    "tags": []
   },
   "outputs": [],
   "source": [
    "def plotModelData(datasetName, dataset):\n",
    "    plt.rcParams['figure.figsize'] = [10, 5]\n",
    "    \n",
    "    # Data for the chart\n",
    "    x = list(feature_set_result.keys())\n",
    "    ind = np.arange(len(x)) \n",
    "    width = 0.2\n",
    "\n",
    "\n",
    "    plt.subplot(1, 2, 1)\n",
    "    mlp_results,mnb_results,rforest_results,ridge_results = get_model_results(dataset,0)\n",
    "\n",
    "    # Plot the data\n",
    "    plt.bar(ind, mlp_results, width, label='MLPClassifer')\n",
    "    plt.bar(ind+width, mnb_results, width, label='MultinomialNB')\n",
    "    plt.bar(ind+width*2, rforest_results, width, label='Random Forest')\n",
    "    plt.bar(ind+width*3, ridge_results, width, label='RidgeClassifier')\n",
    "\n",
    "    plt.ylim([0, 1])\n",
    "    plt.xticks(ind+width*1.5,x)\n",
    "    plt.title(\"%s - Weighted F1 Score\" % datasetName)\n",
    "\n",
    "    plt.subplot(1, 2, 2)\n",
    "    mlp_results,mnb_results,rforest_results,ridge_results = get_model_results(dataset,1)\n",
    "\n",
    "    # Plot the data\n",
    "    plt.bar(ind, mlp_results, width, label='MLPClassifer')\n",
    "    plt.bar(ind+width, mnb_results, width, label='MultinomialNB')\n",
    "    plt.bar(ind+width*2, rforest_results, width, label='Random Forest')\n",
    "    plt.bar(ind+width*3, ridge_results, width, label='RidgeClassifier')\n",
    "    \n",
    "    plt.ylim([0, 1])\n",
    "    plt.xticks(ind+width*1.5,x)\n",
    "\n",
    "    plt.title(\"%s - Hamming Loss\" % datasetName)\n",
    "\n",
    "    # Add a legend and title\n",
    "    plt.legend(fontsize=\"8\")\n",
    "\n",
    "    getTopModel(datasetName, dataset)\n",
    "    \n",
    "    # Show the plot\n",
    "    plt.show()"
   ]
  },
  {
   "cell_type": "markdown",
   "metadata": {},
   "source": [
    "<h4> Graphs </h4>"
   ]
  },
  {
   "cell_type": "code",
   "execution_count": 44,
   "metadata": {},
   "outputs": [
    {
     "name": "stdout",
     "output_type": "stream",
     "text": [
      "Top 3 Models for Feature Set\n",
      "\n",
      "LabelPowerset-MLPClassifer Weighted F1 Score: 0.81256, Hamming Loss: 0.07191\n",
      "\n",
      "LabelPowerset-MultinomialNB Weighted F1 Score: 0.78968, Hamming Loss: 0.08438\n",
      "\n",
      "LabelPowerset-RidgeClassifier Weighted F1 Score: 0.75253, Hamming Loss: 0.09518\n",
      "\n"
     ]
    },
    {
     "data": {
      "image/png": "[encoded data removed]",
      "text/plain": [
       "<Figure size 1000x500 with 2 Axes>"
      ]
     },
     "metadata": {},
     "output_type": "display_data"
    }
   ],
   "source": [
    "plotModelData(\"Feature Set\", feature_set_result)"
   ]
  },
  {
   "cell_type": "code",
   "execution_count": 45,
   "metadata": {},
   "outputs": [
    {
     "name": "stdout",
     "output_type": "stream",
     "text": [
      "Top 3 Models for BOW\n",
      "\n",
      "LabelPowerset-MLPClassifer Weighted F1 Score: 0.88160, Hamming Loss: 0.04560\n",
      "\n",
      "ClassiferChain-MLPClassifer Weighted F1 Score: 0.87224, Hamming Loss: 0.04665\n",
      "\n",
      "LabelPowerset-MultinomialNB Weighted F1 Score: 0.81535, Hamming Loss: 0.06792\n",
      "\n"
     ]
    },
    {
     "data": {
      "image/png": "[encoded data removed]",
      "text/plain": [
       "<Figure size 1000x500 with 2 Axes>"
      ]
     },
     "metadata": {},
     "output_type": "display_data"
    }
   ],
   "source": [
    "plotModelData(\"BOW\", bow_result)"
   ]
  },
  {
   "cell_type": "code",
   "execution_count": 46,
   "metadata": {},
   "outputs": [
    {
     "name": "stdout",
     "output_type": "stream",
     "text": [
      "Top 3 Models for TFIDF\n",
      "\n",
      "LabelPowerset-RidgeClassifier Weighted F1 Score: 0.91927, Hamming Loss: 0.03113\n",
      "\n",
      "LabelPowerset-MLPClassifer Weighted F1 Score: 0.88730, Hamming Loss: 0.04287\n",
      "\n",
      "LabelPowerset-MultinomialNB Weighted F1 Score: 0.57550, Hamming Loss: 0.13826\n",
      "\n"
     ]
    },
    {
     "data": {
      "image/png": "[encoded data removed]",
      "text/plain": [
       "<Figure size 1000x500 with 2 Axes>"
      ]
     },
     "metadata": {},
     "output_type": "display_data"
    }
   ],
   "source": [
    "plotModelData(\"TFIDF\", tfidf_result)"
   ]
  },
  {
   "cell_type": "markdown",
   "metadata": {
    "tags": []
   },
   "source": [
    "From the graph and top 3 for each dataset above, i will take the LabelPower-RidgeClassifer using the tfidf dataset to:\n",
    "1. Test out Different Hyperparameters\n",
    "2. Make Function to predict category from title and transcipt"
   ]
  },
  {
   "cell_type": "code",
   "execution_count": 47,
   "metadata": {},
   "outputs": [],
   "source": [
    "base_ridge = RidgeClassifier()\n",
    "lp_ridge = LabelPowerset(base_ridge)"
   ]
  },
  {
   "cell_type": "code",
   "execution_count": 48,
   "metadata": {},
   "outputs": [
    {
     "data": {
      "text/plain": [
       "{'classifier': RidgeClassifier(),\n",
       " 'classifier__alpha': 1.0,\n",
       " 'classifier__class_weight': None,\n",
       " 'classifier__copy_X': True,\n",
       " 'classifier__fit_intercept': True,\n",
       " 'classifier__max_iter': None,\n",
       " 'classifier__normalize': 'deprecated',\n",
       " 'classifier__positive': False,\n",
       " 'classifier__random_state': None,\n",
       " 'classifier__solver': 'auto',\n",
       " 'classifier__tol': 0.001,\n",
       " 'require_dense': [True, True]}"
      ]
     },
     "execution_count": 48,
     "metadata": {},
     "output_type": "execute_result"
    }
   ],
   "source": [
    "lp_ridge.get_params()"
   ]
  },
  {
   "cell_type": "code",
   "execution_count": 49,
   "metadata": {},
   "outputs": [],
   "source": [
    "# grid = {\n",
    "#     \"classifier__alpha\" : np.arange(0,1.1,0.1),\n",
    "#     \"classifier__class_weight\" : [None, \"balanced\"],\n",
    "#     \"classifier__solver\" : [\"svd\", \"cholesky\", \"lsqr\", \"sparse_cg\", \"sag\", \"saga\", \"lbfgs\"],\n",
    "#     \"classifier__random_state\" : [42],\n",
    "# }"
   ]
  },
  {
   "cell_type": "code",
   "execution_count": 50,
   "metadata": {},
   "outputs": [],
   "source": [
    "grid = {\n",
    "    \"classifier__alpha\" : np.arange(0,1.1,0.1),\n",
    "    \"classifier__class_weight\" : [None, \"balanced\"],\n",
    "    \"classifier__random_state\" : [42],\n",
    "}"
   ]
  },
  {
   "cell_type": "code",
   "execution_count": 51,
   "metadata": {},
   "outputs": [],
   "source": [
    "from sklearn.model_selection import GridSearchCV\n",
    "\n",
    "X_train, X_test, y_train, y_test = train_test_split(tfidf_features, y, test_size=0.2,stratify=y)\n",
    "\n",
    "clf = GridSearchCV(lp_ridge, grid, scoring=\"f1_weighted\", n_jobs=-1)"
   ]
  },
  {
   "cell_type": "code",
   "execution_count": 52,
   "metadata": {
    "scrolled": true,
    "tags": []
   },
   "outputs": [
    {
     "data": {
      "text/plain": [
       "GridSearchCV(estimator=LabelPowerset(classifier=RidgeClassifier(),\n",
       "                                     require_dense=[True, True]),\n",
       "             n_jobs=-1,\n",
       "             param_grid={'classifier__alpha': array([0. , 0.1, 0.2, 0.3, 0.4, 0.5, 0.6, 0.7, 0.8, 0.9, 1. ]),\n",
       "                         'classifier__class_weight': [None, 'balanced'],\n",
       "                         'classifier__random_state': [42]},\n",
       "             scoring='f1_weighted')"
      ]
     },
     "execution_count": 52,
     "metadata": {},
     "output_type": "execute_result"
    }
   ],
   "source": [
    "clf.fit(X_train, y_train)"
   ]
  },
  {
   "cell_type": "code",
   "execution_count": 53,
   "metadata": {},
   "outputs": [
    {
     "data": {
      "text/plain": [
       "{'classifier__alpha': 0.30000000000000004,\n",
       " 'classifier__class_weight': 'balanced',\n",
       " 'classifier__random_state': 42}"
      ]
     },
     "execution_count": 53,
     "metadata": {},
     "output_type": "execute_result"
    }
   ],
   "source": [
    "clf.best_params_"
   ]
  },
  {
   "cell_type": "code",
   "execution_count": 54,
   "metadata": {},
   "outputs": [],
   "source": [
    "y_pred = clf.best_estimator_.predict(X_test)"
   ]
  },
  {
   "cell_type": "markdown",
   "metadata": {},
   "source": [
    "<h4> Deeper Evaluation of Model </h4>"
   ]
  },
  {
   "cell_type": "markdown",
   "metadata": {},
   "source": [
    "Confusion Matrix"
   ]
  },
  {
   "cell_type": "code",
   "execution_count": 55,
   "metadata": {
    "jupyter": {
     "source_hidden": true
    },
    "tags": []
   },
   "outputs": [
    {
     "data": {
      "image/png": "[encoded data removed]",
      "text/plain": [
       "<Figure size 2500x1500 with 7 Axes>"
      ]
     },
     "metadata": {},
     "output_type": "display_data"
    }
   ],
   "source": [
    "ml_cm = multilabel_confusion_matrix(y_test, y_pred)\n",
    "\n",
    "cat_names = y.columns.to_list()\n",
    "\n",
    "f, axes = plt.subplots(2, 3, figsize=(25, 15))\n",
    "axes = axes.ravel()\n",
    "for i in range(6):\n",
    "    disp = ConfusionMatrixDisplay(ml_cm[i])\n",
    "    disp.plot(ax=axes[i], values_format='.4g')\n",
    "    disp.ax_.set_title(cat_names[i])\n",
    "    if i<0:\n",
    "        disp.ax_.set_xlabel('')\n",
    "    if i%3!=0:\n",
    "        disp.ax_.set_ylabel('')\n",
    "    disp.im_.colorbar.remove()\n",
    "\n",
    "plt.subplots_adjust(wspace=0.10, hspace=0.1)\n",
    "f.colorbar(disp.im_, ax=axes)\n",
    "plt.show()"
   ]
  },
  {
   "cell_type": "markdown",
   "metadata": {},
   "source": [
    "Weighted F1 Score"
   ]
  },
  {
   "cell_type": "code",
   "execution_count": 56,
   "metadata": {
    "jupyter": {
     "source_hidden": true
    },
    "tags": []
   },
   "outputs": [
    {
     "data": {
      "text/plain": [
       "0.9418203016422276"
      ]
     },
     "execution_count": 56,
     "metadata": {},
     "output_type": "execute_result"
    }
   ],
   "source": [
    "f1_score(y_test, y_pred, average=\"weighted\")"
   ]
  },
  {
   "cell_type": "markdown",
   "metadata": {},
   "source": [
    "Classification Report"
   ]
  },
  {
   "cell_type": "code",
   "execution_count": 57,
   "metadata": {
    "jupyter": {
     "source_hidden": true
    },
    "tags": []
   },
   "outputs": [
    {
     "name": "stdout",
     "output_type": "stream",
     "text": [
      "               precision    recall  f1-score   support\n",
      "\n",
      "       Comedy       0.97      0.91      0.94        86\n",
      "Entertainment       0.95      0.94      0.94        64\n",
      "         Food       0.92      0.98      0.95        62\n",
      "         News       0.94      0.92      0.93        50\n",
      "         Tech       0.93      0.98      0.96        56\n",
      "   VideoGames       0.92      0.92      0.92        53\n",
      "\n",
      "    micro avg       0.94      0.94      0.94       371\n",
      "    macro avg       0.94      0.94      0.94       371\n",
      " weighted avg       0.94      0.94      0.94       371\n",
      "  samples avg       0.94      0.94      0.94       371\n",
      "\n"
     ]
    }
   ],
   "source": [
    "print(classification_report(y_test, y_pred, target_names=mlb.classes_))"
   ]
  },
  {
   "cell_type": "markdown",
   "metadata": {},
   "source": [
    "<h4> Testing Classifer</h4>"
   ]
  },
  {
   "cell_type": "code",
   "execution_count": 64,
   "metadata": {},
   "outputs": [
    {
     "name": "stdout",
     "output_type": "stream",
     "text": [
      "Comedy,Entertainment\n",
      "make strangler offic usyou gon na work excit new startup year georg howard skub aka alleg scranton strangler prison someth may done sorri uh scranton scranton strangler georg howard skub told juri coupl year ago oh happen mean ca talk obvious ca mean could could talk see next christama sure uh seat would start begin think need farther realli offic air qualiti test radon come asbesto ceil silent killer silent killer back annex see decid give babi halpert newspap day born frame set back bone decid take sweet time switch today paper move ca well think could counter move scranton strangler profess strangler oh plea wish come would camera dwight shrute stop late real scranton strangler strangl strangler caught sound someon realli tri convinc us scranton strangler chicken scranton strangler next secretari schrute read minut sunday meet minut previous meet knight night jim hey meet knight night knight night volunt crime patrol often compar guardian angel could differ serious noth guardian angel mean broad stroke purpo sure think guardian angel one mani recent good deed set captur scranton strangler mission accomplish us hey tobi want ask question um littl person let let person want talk divorc woah sorri meant actual meant okay handl guy obvious went tough time okay wonder ever coupl counsel oh sure lot time yeah wait pam coupl counsel oh god start coupl counsel sound better guy kelli call hey hey hey clark mistak yes mistak linger silli ah im gon na kill caught scranton strangler trap hous believ insid polic surround apart complex polic surround see appear swat van pull swatt swatt arriv unknown arm thing play realli good music come televi encourag copycat say copi drag cat okay well interest back work standoff last long time anoth waco pronounc whacko event newsworthi histor stop everyth watch balloon boy michael jackson funer thing see live would realli care see come corner columbia street washington ave ugh wheni gon na come phone ring bet wish hybrid right mile gallon citi bet wish strangl someth okay street street street gone went right miss miss grandpa day scranton strangler caught well kiddo tell sell buy nice spaceship minor affect well lot pressur parent settl marri indian guy oh good resent indian guy alway wear cell phone outsid pant dorki dorki easili access boom hello scranton strangler hous insid hous put pocket hi guy hi want let take leav absenc start next week lam bore polic final caught opposit actual select juror highprofil case yes case horribl redhead sadsack verdict tobi sentenc death death tobi death totobi oh hurt talk talk dont interrupt announc leav huge paus sentenc expect case tobi well realli ca talk highprofil case crimin yes heard middl school teacher tri turn foreign exchang student sex slave post offic guy rub peni mail guy realli big deal rub neck rub neck scranton strangler oh neither confirm deni let say neck juri duti oh worst joke everi day million american suffer extrem repul someon myth bring problem light tobi flenderson plea come extrem repul award oh mean got ta play along man come right deserv realli disagr think kind hate although littl happi right platform talk outcom case recent juror scranton strangler man put death part verdict sure guilti figur gave fal mad kevin fight act vindict guess setup yes innoc knew knew begin possibl talk year ago juri scranton structur sorri might set felt pressur convict got ta tough tough put innoc man death row prison afternoon gon na talk strangler probabl best use ro name rather strangler use real name georg howard skub devil name anyway wan na say hi im tobi flenderson see georg howard skub prison expect per se meet georg howard skub tell believ innoc understand felt motiv hug would understand friendship began boggart put think start first friendship well good news guilti conscienc least strangler proof grip say vocal cord would heal one week okay two week okay offer neck search truth proud neck justic express anyway brave realli quit brave\n"
     ]
    }
   ],
   "source": [
    "# Selecting Random Col from cleaned dataframe\n",
    "from random import randint\n",
    "selected = df_cleaned.loc[randint(0,len(df_cleaned))]\n",
    "print(selected.Category)\n",
    "print(selected.Processed_text)"
   ]
  },
  {
   "cell_type": "code",
   "execution_count": 65,
   "metadata": {},
   "outputs": [],
   "source": [
    "x_input = tfidfvectorizer.transform([selected.Processed_text]).toarray()"
   ]
  },
  {
   "cell_type": "code",
   "execution_count": 66,
   "metadata": {},
   "outputs": [
    {
     "data": {
      "text/plain": [
       "[('Comedy', 'Entertainment')]"
      ]
     },
     "execution_count": 66,
     "metadata": {},
     "output_type": "execute_result"
    }
   ],
   "source": [
    "y_predicted = clf.best_estimator_.predict(x_input).toarray()\n",
    "mlb.inverse_transform(y_predicted)"
   ]
  }
 ],
 "metadata": {
  "kernelspec": {
   "display_name": "Python 3 (ipykernel)",
   "language": "python",
   "name": "python3"
  },
  "language_info": {
   "codemirror_mode": {
    "name": "ipython",
    "version": 3
   },
   "file_extension": ".py",
   "mimetype": "text/x-python",
   "name": "python",
   "nbconvert_exporter": "python",
   "pygments_lexer": "ipython3",
   "version": "3.9.13"
  }
 },
 "nbformat": 4,
 "nbformat_minor": 4
}
